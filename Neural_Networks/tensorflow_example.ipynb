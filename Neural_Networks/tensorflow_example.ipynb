{
 "cells": [
  {
   "cell_type": "code",
   "execution_count": 3,
   "metadata": {
    "collapsed": true
   },
   "outputs": [],
   "source": [
    "#导入库\n",
    "import tensorflow as tf\n",
    "import numpy as np"
   ]
  },
  {
   "cell_type": "code",
   "execution_count": 4,
   "metadata": {
    "collapsed": true
   },
   "outputs": [],
   "source": [
    "生产数据数据\n",
    "x_data = np.random.rand(100).astype(np.float32)\n",
    "y_data = x_data * 0.1 + 0.3"
   ]
  },
  {
   "cell_type": "code",
   "execution_count": 5,
   "metadata": {
    "collapsed": true
   },
   "outputs": [],
   "source": [
    "#创建参数\n",
    "Weights = tf.Variable(tf.random_uniform([1],-1.0,1.0))\n",
    "biases = tf.Variable(tf.zeros([1]))"
   ]
  },
  {
   "cell_type": "code",
   "execution_count": 8,
   "metadata": {
    "collapsed": true
   },
   "outputs": [],
   "source": [
    "#计算y\n",
    "y = Weights * x_data + biases"
   ]
  },
  {
   "cell_type": "code",
   "execution_count": 9,
   "metadata": {
    "collapsed": true
   },
   "outputs": [],
   "source": [
    "#设计优化函数\n",
    "loss = tf.reduce_mean(tf.square(y - y_data))"
   ]
  },
  {
   "cell_type": "code",
   "execution_count": 14,
   "metadata": {
    "collapsed": true
   },
   "outputs": [],
   "source": [
    "#定义操作\n",
    "optimizer = tf.train.GradientDescentOptimizer(0.5)\n",
    "train = optimizer.minimize(loss)"
   ]
  },
  {
   "cell_type": "code",
   "execution_count": 12,
   "metadata": {},
   "outputs": [],
   "source": [
    "#定义初始化\n",
    "init = tf.global_variables_initializer()"
   ]
  },
  {
   "cell_type": "code",
   "execution_count": 15,
   "metadata": {},
   "outputs": [
    {
     "name": "stdout",
     "output_type": "stream",
     "text": [
      "0 [ 0.7877447] [-0.09188314]\n",
      "10 [ 0.49204499] [ 0.09376913]\n",
      "20 [ 0.31952408] [ 0.18452185]\n",
      "30 [ 0.22292165] [ 0.23533846]\n",
      "40 [ 0.1688295] [ 0.26379302]\n",
      "50 [ 0.13854082] [ 0.27972606]\n",
      "60 [ 0.12158079] [ 0.28864768]\n",
      "70 [ 0.11208408] [ 0.29364333]\n",
      "80 [ 0.10676643] [ 0.2964406]\n",
      "90 [ 0.10378885] [ 0.29800692]\n",
      "100 [ 0.10212158] [ 0.29888397]\n",
      "110 [ 0.10118797] [ 0.29937509]\n",
      "120 [ 0.10066521] [ 0.29965007]\n",
      "130 [ 0.10037248] [ 0.29980406]\n",
      "140 [ 0.10020857] [ 0.29989031]\n",
      "150 [ 0.10011679] [ 0.29993859]\n",
      "160 [ 0.10006539] [ 0.29996562]\n",
      "170 [ 0.10003662] [ 0.29998076]\n",
      "180 [ 0.10002051] [ 0.29998922]\n",
      "190 [ 0.10001148] [ 0.29999396]\n"
     ]
    }
   ],
   "source": [
    "# run起来\n",
    "sess = tf.Session()\n",
    "sess.run(init)\n",
    "for step in range(200):\n",
    "    sess.run(train)\n",
    "    if step%10 == 0:\n",
    "        print (step,sess.run(Weights),sess.run(biases))"
   ]
  }
 ],
 "metadata": {
  "kernelspec": {
   "display_name": "Python 3",
   "language": "python",
   "name": "python3"
  },
  "language_info": {
   "codemirror_mode": {
    "name": "ipython",
    "version": 3
   },
   "file_extension": ".py",
   "mimetype": "text/x-python",
   "name": "python",
   "nbconvert_exporter": "python",
   "pygments_lexer": "ipython3",
   "version": "3.6.1"
  }
 },
 "nbformat": 4,
 "nbformat_minor": 2
}
