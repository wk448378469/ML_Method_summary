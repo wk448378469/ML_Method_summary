{
 "cells": [
  {
   "cell_type": "code",
   "execution_count": 2,
   "metadata": {
    "collapsed": true
   },
   "outputs": [],
   "source": [
    "import tensorflow as tf\n",
    "import numpy as np"
   ]
  },
  {
   "cell_type": "markdown",
   "metadata": {},
   "source": []
  },
  {
   "cell_type": "code",
   "execution_count": 30,
   "metadata": {},
   "outputs": [],
   "source": [
    "# 准备数据\n",
    "x_data = np.linspace(-1,1,300)[:, np.newaxis]\n",
    "noise = np.random.normal(0, 0.05, x_data.shape)\n",
    "y_data = np.square(x_data) - 0.5 + noise\n",
    "xs = tf.placeholder(tf.float32, [None, 1])\n",
    "ys = tf.placeholder(tf.float32, [None, 1])"
   ]
  },
  {
   "cell_type": "code",
   "execution_count": 39,
   "metadata": {},
   "outputs": [],
   "source": [
    "def addLayer(inputs,in_size,out_size,activation_function=None):\n",
    "    # 初始化加权和偏移\n",
    "    Weights = tf.Variable(tf.random_normal([in_size, out_size]))\n",
    "    biases = tf.Variable(tf.zeros([1, out_size]) + 0.1)\n",
    "    \n",
    "    # 计算输出\n",
    "    Wx_plus_b = tf.matmul(inputs,Weights) + biases\n",
    "    \n",
    "    # 判断是否需要激励函数\n",
    "    if activation_function is None:\n",
    "        outputs = Wx_plus_b    # 线性\n",
    "    else:\n",
    "        outputs = activation_function(Wx_plus_b) # 传入的激励函数作用于输出\n",
    "        \n",
    "    return outputs"
   ]
  },
  {
   "cell_type": "code",
   "execution_count": 43,
   "metadata": {},
   "outputs": [],
   "source": [
    "# 隐藏层\n",
    "layer = addLayer(xs, 1, 10, activation_function=tf.nn.relu)"
   ]
  },
  {
   "cell_type": "code",
   "execution_count": 44,
   "metadata": {},
   "outputs": [],
   "source": [
    "# 输出层\n",
    "outLayer = addLayer(layer,10,1,activation_function=None)"
   ]
  },
  {
   "cell_type": "code",
   "execution_count": 59,
   "metadata": {},
   "outputs": [],
   "source": [
    "# 定义优化目标，mean(sum((y - pre)^2))\n",
    "loss = tf.reduce_mean(tf.reduce_sum(tf.square(ys - outLayer),\n",
    "                     reduction_indices=[1]))"
   ]
  },
  {
   "cell_type": "code",
   "execution_count": 60,
   "metadata": {
    "collapsed": true
   },
   "outputs": [],
   "source": [
    "# 定义训练方法，随机梯度下降，或者叫反向传播？\n",
    "# 目标是最小化loss\n",
    "train_step = tf.train.GradientDescentOptimizer(0.1).minimize(loss)"
   ]
  },
  {
   "cell_type": "code",
   "execution_count": 61,
   "metadata": {},
   "outputs": [],
   "source": [
    "# 初始化变量\n",
    "init = tf.global_variables_initializer()"
   ]
  },
  {
   "cell_type": "code",
   "execution_count": 62,
   "metadata": {
    "collapsed": true
   },
   "outputs": [],
   "source": [
    "# 创建会话对象\n",
    "sess = tf.Session()"
   ]
  },
  {
   "cell_type": "code",
   "execution_count": 63,
   "metadata": {
    "collapsed": true
   },
   "outputs": [],
   "source": [
    "# 会话的第一步就是把初始化变量给跑一下\n",
    "sess.run(init)"
   ]
  },
  {
   "cell_type": "code",
   "execution_count": 64,
   "metadata": {},
   "outputs": [
    {
     "name": "stdout",
     "output_type": "stream",
     "text": [
      "0.218658\n",
      "0.00904989\n",
      "0.00571339\n",
      "0.00467267\n",
      "0.00415498\n",
      "0.00387062\n",
      "0.00366293\n",
      "0.00352469\n",
      "0.00339367\n",
      "0.00328711\n",
      "0.00319978\n",
      "0.00313556\n",
      "0.00308673\n",
      "0.0030501\n",
      "0.00302657\n",
      "0.00300723\n",
      "0.00298793\n",
      "0.00296822\n",
      "0.00295059\n",
      "0.00293683\n"
     ]
    }
   ],
   "source": [
    "# 训练并打印相关信息\n",
    "for i in range(1000):\n",
    "    sess.run(train_step,feed_dict={xs:x_data,ys:y_data})\n",
    "    if i % 50 == 0:\n",
    "        print (sess.run(loss,feed_dict={xs:x_data,ys:y_data}))"
   ]
  }
 ],
 "metadata": {
  "kernelspec": {
   "display_name": "Python 3",
   "language": "python",
   "name": "python3"
  },
  "language_info": {
   "codemirror_mode": {
    "name": "ipython",
    "version": 3
   },
   "file_extension": ".py",
   "mimetype": "text/x-python",
   "name": "python",
   "nbconvert_exporter": "python",
   "pygments_lexer": "ipython3",
   "version": "3.6.1"
  }
 },
 "nbformat": 4,
 "nbformat_minor": 2
}
