{
 "cells": [
  {
   "cell_type": "code",
   "execution_count": 1,
   "metadata": {
    "collapsed": true
   },
   "outputs": [],
   "source": [
    "import tensorflow as tf\n",
    "from tensorflow.examples.tutorials.mnist import input_data"
   ]
  },
  {
   "cell_type": "code",
   "execution_count": 3,
   "metadata": {},
   "outputs": [
    {
     "name": "stdout",
     "output_type": "stream",
     "text": [
      "Successfully downloaded train-images-idx3-ubyte.gz 9912422 bytes.\n",
      "Extracting MNIST_data/train-images-idx3-ubyte.gz\n",
      "Successfully downloaded train-labels-idx1-ubyte.gz 28881 bytes.\n",
      "Extracting MNIST_data/train-labels-idx1-ubyte.gz\n",
      "Successfully downloaded t10k-images-idx3-ubyte.gz 1648877 bytes.\n",
      "Extracting MNIST_data/t10k-images-idx3-ubyte.gz\n",
      "Successfully downloaded t10k-labels-idx1-ubyte.gz 4542 bytes.\n",
      "Extracting MNIST_data/t10k-labels-idx1-ubyte.gz\n"
     ]
    }
   ],
   "source": [
    "# 下载数据\n",
    "mnist = input_data.read_data_sets('MNIST_data', one_hot=True)"
   ]
  },
  {
   "cell_type": "code",
   "execution_count": 44,
   "metadata": {},
   "outputs": [
    {
     "data": {
      "text/plain": [
       "<function ndarray.all>"
      ]
     },
     "execution_count": 44,
     "metadata": {},
     "output_type": "execute_result"
    }
   ],
   "source": [
    "train_x = mnist.train.images.all"
   ]
  },
  {
   "cell_type": "code",
   "execution_count": 22,
   "metadata": {
    "collapsed": true
   },
   "outputs": [],
   "source": [
    "def addLayer(inputs,in_size,out_size,activation_function=None):\n",
    "    # 初始化加权和偏移\n",
    "    Weights = tf.Variable(tf.random_normal([in_size, out_size]))\n",
    "    biases = tf.Variable(tf.zeros([1, out_size]))\n",
    "    \n",
    "    # 计算输出\n",
    "    Wx_plus_b = tf.matmul(inputs,Weights) + biases\n",
    "    \n",
    "    # 判断是否需要激励函数\n",
    "    if activation_function is None:\n",
    "        outputs = Wx_plus_b    # 线性\n",
    "    else:\n",
    "        outputs = activation_function(Wx_plus_b) # 传入的激励函数作用于输出\n",
    "        \n",
    "    return outputs"
   ]
  },
  {
   "cell_type": "code",
   "execution_count": 5,
   "metadata": {
    "collapsed": true
   },
   "outputs": [],
   "source": [
    "xs = tf.placeholder(tf.float32,[None,784])\n",
    "ys = tf.placeholder(tf.float32,[None,10])"
   ]
  },
  {
   "cell_type": "code",
   "execution_count": 36,
   "metadata": {
    "collapsed": true
   },
   "outputs": [],
   "source": [
    "# 就一层，其实到现在我意识到，激励函数真的很重要。。。。\n",
    "outputs = addLayer(xs,784,10,activation_function=tf.nn.softmax)"
   ]
  },
  {
   "cell_type": "code",
   "execution_count": 37,
   "metadata": {},
   "outputs": [],
   "source": [
    "# 代价函数\n",
    "cross_entropy = tf.reduce_mean(-tf.reduce_sum(ys * tf.log(outputs),reduction_indices=[1]))"
   ]
  },
  {
   "cell_type": "code",
   "execution_count": 38,
   "metadata": {
    "collapsed": true
   },
   "outputs": [],
   "source": [
    "# 传统的mini batch gradient descent\n",
    "train_step = tf.train.GradientDescentOptimizer(0.5).minimize(cross_entropy)"
   ]
  },
  {
   "cell_type": "code",
   "execution_count": 39,
   "metadata": {
    "collapsed": true
   },
   "outputs": [],
   "source": [
    "# 辅助函数，用来计算预测的准确性\n",
    "def compute_accuracy(v_xs, v_ys):\n",
    "    global outputs\n",
    "    y_pre = sess.run(outputs, feed_dict={xs: v_xs})\n",
    "    correct_prediction = tf.equal(tf.argmax(y_pre,1), tf.argmax(v_ys,1))\n",
    "    accuracy = tf.reduce_mean(tf.cast(correct_prediction, tf.float32))\n",
    "    result = sess.run(accuracy, feed_dict={xs: v_xs, ys: v_ys})\n",
    "    return result"
   ]
  },
  {
   "cell_type": "code",
   "execution_count": 40,
   "metadata": {
    "collapsed": true
   },
   "outputs": [],
   "source": [
    "sess = tf.Session()\n",
    "init = tf.global_variables_initializer()\n",
    "sess.run(init)"
   ]
  },
  {
   "cell_type": "code",
   "execution_count": 41,
   "metadata": {},
   "outputs": [
    {
     "name": "stdout",
     "output_type": "stream",
     "text": [
      "0.0814\n",
      "0.6264\n",
      "0.7357\n",
      "0.7793\n",
      "0.8045\n",
      "0.8187\n",
      "0.8299\n",
      "0.8408\n",
      "0.846\n",
      "0.8523\n",
      "0.8545\n",
      "0.8594\n",
      "0.8644\n",
      "0.8644\n",
      "0.8687\n",
      "0.8703\n",
      "0.8731\n",
      "0.8736\n",
      "0.8756\n",
      "0.877\n",
      "0.876\n",
      "0.8803\n",
      "0.8793\n",
      "0.8836\n",
      "0.8835\n",
      "0.8849\n",
      "0.8854\n",
      "0.8868\n",
      "0.885\n",
      "0.8873\n",
      "0.8876\n",
      "0.8879\n",
      "0.8906\n",
      "0.8879\n",
      "0.8895\n",
      "0.8907\n",
      "0.8915\n",
      "0.8907\n",
      "0.8923\n",
      "0.8929\n",
      "0.8937\n",
      "0.8953\n",
      "0.8937\n",
      "0.8926\n",
      "0.8933\n",
      "0.8938\n",
      "0.8951\n",
      "0.8935\n",
      "0.8951\n",
      "0.8959\n",
      "0.8962\n",
      "0.8959\n",
      "0.8977\n",
      "0.8966\n",
      "0.8956\n",
      "0.8993\n",
      "0.9003\n",
      "0.8981\n",
      "0.8992\n",
      "0.8996\n"
     ]
    }
   ],
   "source": [
    "for i in range(3000):\n",
    "    batch_xs, batch_ys = mnist.train.next_batch(200)\n",
    "    sess.run(train_step,feed_dict={xs:batch_xs,ys:batch_ys})\n",
    "    if i%50 == 0:\n",
    "        print (compute_accuracy(mnist.test.images, mnist.test.labels))"
   ]
  }
 ],
 "metadata": {
  "kernelspec": {
   "display_name": "Python 3",
   "language": "python",
   "name": "python3"
  },
  "language_info": {
   "codemirror_mode": {
    "name": "ipython",
    "version": 3
   },
   "file_extension": ".py",
   "mimetype": "text/x-python",
   "name": "python",
   "nbconvert_exporter": "python",
   "pygments_lexer": "ipython3",
   "version": "3.6.1"
  }
 },
 "nbformat": 4,
 "nbformat_minor": 2
}
