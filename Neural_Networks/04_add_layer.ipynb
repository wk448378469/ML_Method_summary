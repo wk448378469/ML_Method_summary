{
 "cells": [
  {
   "cell_type": "code",
   "execution_count": 1,
   "metadata": {
    "collapsed": true
   },
   "outputs": [],
   "source": [
    "import tensorflow as tf"
   ]
  },
  {
   "cell_type": "markdown",
   "metadata": {},
   "source": [
    "### 添加层\n",
    "\n",
    "一个神经网络可以包含很多的大层，下一层的神经元将计算上一层神经元输出的加权和  \n",
    "\n",
    "一个神经层包含了以下内容：  \n",
    "1、权重，初始化权重，最好用随机数  \n",
    "2、偏移，记得应该是推荐0  \n",
    "3、激励函数，若为None，则是线性的  "
   ]
  },
  {
   "cell_type": "code",
   "execution_count": 4,
   "metadata": {
    "collapsed": true
   },
   "outputs": [],
   "source": [
    "def addLayer(inputs,in_size,out_size,activation_function=None):\n",
    "    # 初始化加权和偏移\n",
    "    Weights = tf.Variable(tf.random_normal([in_size,out_size]))\n",
    "    biases = tf.Variable(tf.zeros([1, out_size]) + 0.1)\n",
    "    \n",
    "    # 计算输出\n",
    "    Wx_plus_b = tf.matmul(input,Weights) + biases\n",
    "    \n",
    "    # 判断是否需要激励函数\n",
    "    if activation_function is None:\n",
    "        outputs = Wx_plus_b    # 线性\n",
    "    else:\n",
    "        outputs = activation_function(Wx_plus_b) # 传入的激励函数作用于输出\n",
    "        \n",
    "    return outputs"
   ]
  }
 ],
 "metadata": {
  "kernelspec": {
   "display_name": "Python 3",
   "language": "python",
   "name": "python3"
  },
  "language_info": {
   "codemirror_mode": {
    "name": "ipython",
    "version": 3
   },
   "file_extension": ".py",
   "mimetype": "text/x-python",
   "name": "python",
   "nbconvert_exporter": "python",
   "pygments_lexer": "ipython3",
   "version": "3.6.1"
  }
 },
 "nbformat": 4,
 "nbformat_minor": 2
}
